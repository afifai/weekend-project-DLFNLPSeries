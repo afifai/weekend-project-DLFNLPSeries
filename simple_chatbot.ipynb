{
 "cells": [
  {
   "cell_type": "code",
   "execution_count": 2,
   "metadata": {},
   "outputs": [],
   "source": [
    "# prepare dataset\n",
    "import json\n",
    "import pandas as pd\n",
    "\n",
    "with open(\"data/intents.json\") as data_file:\n",
    "    data = json.load(data_file)"
   ]
  },
  {
   "cell_type": "code",
   "execution_count": 9,
   "metadata": {},
   "outputs": [
    {
     "data": {
      "text/html": [
       "<div>\n",
       "<style scoped>\n",
       "    .dataframe tbody tr th:only-of-type {\n",
       "        vertical-align: middle;\n",
       "    }\n",
       "\n",
       "    .dataframe tbody tr th {\n",
       "        vertical-align: top;\n",
       "    }\n",
       "\n",
       "    .dataframe thead th {\n",
       "        text-align: right;\n",
       "    }\n",
       "</style>\n",
       "<table border=\"1\" class=\"dataframe\">\n",
       "  <thead>\n",
       "    <tr style=\"text-align: right;\">\n",
       "      <th></th>\n",
       "      <th>text_input</th>\n",
       "      <th>intents</th>\n",
       "    </tr>\n",
       "  </thead>\n",
       "  <tbody>\n",
       "    <tr>\n",
       "      <th>0</th>\n",
       "      <td>Hai</td>\n",
       "      <td>salam</td>\n",
       "    </tr>\n",
       "    <tr>\n",
       "      <th>1</th>\n",
       "      <td>Hi</td>\n",
       "      <td>salam</td>\n",
       "    </tr>\n",
       "    <tr>\n",
       "      <th>2</th>\n",
       "      <td>Halo</td>\n",
       "      <td>salam</td>\n",
       "    </tr>\n",
       "    <tr>\n",
       "      <th>3</th>\n",
       "      <td>Apa Kabar</td>\n",
       "      <td>salam</td>\n",
       "    </tr>\n",
       "    <tr>\n",
       "      <th>4</th>\n",
       "      <td>Selamat Pagi</td>\n",
       "      <td>salam</td>\n",
       "    </tr>\n",
       "  </tbody>\n",
       "</table>\n",
       "</div>"
      ],
      "text/plain": [
       "     text_input intents\n",
       "0           Hai   salam\n",
       "1            Hi   salam\n",
       "2          Halo   salam\n",
       "3     Apa Kabar   salam\n",
       "4  Selamat Pagi   salam"
      ]
     },
     "execution_count": 9,
     "metadata": {},
     "output_type": "execute_result"
    }
   ],
   "source": [
    "text_input = []\n",
    "intents = []\n",
    "\n",
    "for intent in data['intents']:\n",
    "    for pattern in intent['patterns']:\n",
    "        text_input.append(pattern)\n",
    "        intents.append(intent['tag'])\n",
    "\n",
    "df = pd.DataFrame({'text_input': text_input,\n",
    "                    'intents': intents})\n",
    "\n",
    "df.head()"
   ]
  },
  {
   "cell_type": "code",
   "execution_count": 10,
   "metadata": {},
   "outputs": [
    {
     "data": {
      "text/plain": [
       "salam                 12\n",
       "bye                    8\n",
       "nama                   7\n",
       "ngodingpython_typo     7\n",
       "komunitas              7\n",
       "pekerjaan              5\n",
       "ngodingpython          5\n",
       "youtube                5\n",
       "kemampuan              5\n",
       "Name: intents, dtype: int64"
      ]
     },
     "execution_count": 10,
     "metadata": {},
     "output_type": "execute_result"
    }
   ],
   "source": [
    "df.intents.value_counts()"
   ]
  },
  {
   "cell_type": "code",
   "execution_count": 11,
   "metadata": {},
   "outputs": [],
   "source": [
    "# data cleansing\n",
    "import string\n",
    "\n",
    "# convert lowercase\n",
    "df.text_input = df.text_input.apply(lambda x: x.lower())\n",
    "\n",
    "# remove punctuation\n",
    "exclude = set(string.punctuation)\n",
    "df.text_input = df.text_input.apply(lambda x: ''.join(ch for ch in x if ch not in exclude))"
   ]
  },
  {
   "cell_type": "code",
   "execution_count": 13,
   "metadata": {},
   "outputs": [],
   "source": [
    "# label encoding\n",
    "from sklearn.preprocessing import LabelEncoder\n",
    "from tensorflow.keras.utils import to_categorical\n",
    "\n",
    "le = LabelEncoder()\n",
    "y_train = le.fit_transform(df.intents)\n",
    "y_train = to_categorical(y_train)"
   ]
  },
  {
   "cell_type": "code",
   "execution_count": 20,
   "metadata": {},
   "outputs": [],
   "source": [
    "all_vocab = []\n",
    "length = []\n",
    "\n",
    "for idx, row in df.iterrows():\n",
    "    sent = row['text_input']\n",
    "    [all_vocab.append(i) for i in sent.split()]\n",
    "    length.append(len(sent.split()))"
   ]
  },
  {
   "cell_type": "code",
   "execution_count": 19,
   "metadata": {},
   "outputs": [
    {
     "data": {
      "text/plain": [
       "166"
      ]
     },
     "execution_count": 19,
     "metadata": {},
     "output_type": "execute_result"
    }
   ],
   "source": [
    "len(all_vocab)"
   ]
  },
  {
   "cell_type": "code",
   "execution_count": 21,
   "metadata": {},
   "outputs": [
    {
     "data": {
      "text/plain": [
       "6"
      ]
     },
     "execution_count": 21,
     "metadata": {},
     "output_type": "execute_result"
    }
   ],
   "source": [
    "max(length)"
   ]
  },
  {
   "cell_type": "code",
   "execution_count": 18,
   "metadata": {},
   "outputs": [
    {
     "data": {
      "text/plain": [
       "86"
      ]
     },
     "execution_count": 18,
     "metadata": {},
     "output_type": "execute_result"
    }
   ],
   "source": [
    "len(set(all_vocab))"
   ]
  },
  {
   "cell_type": "code",
   "execution_count": 23,
   "metadata": {},
   "outputs": [],
   "source": [
    "from tensorflow.keras.layers import TextVectorization\n",
    "\n",
    "max_vocab_length = 86\n",
    "max_length = 6\n",
    "\n",
    "text_vectorization = TextVectorization(max_tokens=max_vocab_length,\n",
    "                                       standardize='lower_and_strip_punctuation',\n",
    "                                       split='whitespace',\n",
    "                                       ngrams=None,\n",
    "                                       output_mode='int',\n",
    "                                       output_sequence_length=max_length\n",
    "                                       )\n"
   ]
  },
  {
   "cell_type": "code",
   "execution_count": 24,
   "metadata": {},
   "outputs": [],
   "source": [
    "text_vectorization.adapt(df.text_input)"
   ]
  },
  {
   "cell_type": "code",
   "execution_count": 26,
   "metadata": {},
   "outputs": [
    {
     "data": {
      "text/plain": [
       "['',\n",
       " '[UNK]',\n",
       " 'apa',\n",
       " 'bisa',\n",
       " 'emang',\n",
       " 'ngoding',\n",
       " 'lo',\n",
       " 'kamu',\n",
       " 'tuh',\n",
       " 'selamat',\n",
       " 'ngapain',\n",
       " 'lu',\n",
       " 'sih',\n",
       " 'siapa',\n",
       " 'nya',\n",
       " 'ngodingpython',\n",
       " 'ngodingpithon',\n",
       " 'nama',\n",
       " 'ga',\n",
       " 'ya',\n",
       " 'wah',\n",
       " 'tugas',\n",
       " 'si',\n",
       " 'sape',\n",
       " 'python',\n",
       " 'ok',\n",
       " 'mau',\n",
       " 'kodingan',\n",
       " 'kemana',\n",
       " 'kalau',\n",
       " 'dimana',\n",
       " 'dah',\n",
       " 'ada',\n",
       " 'youtube',\n",
       " 'yang',\n",
       " 'wui',\n",
       " 'woy',\n",
       " 'urlnya',\n",
       " 'tinggal',\n",
       " 'tanyatanya',\n",
       " 'siang',\n",
       " 'semoga',\n",
       " 'sampai',\n",
       " 'salam',\n",
       " 'saha',\n",
       " 'piton',\n",
       " 'ping',\n",
       " 'phyton',\n",
       " 'pekerjaan',\n",
       " 'pagi',\n",
       " 'paan',\n",
       " 'p',\n",
       " 'ngodingpiton',\n",
       " 'ngodingphython',\n",
       " 'nanya',\n",
       " 'minta',\n",
       " 'menyenangkan',\n",
       " 'mana',\n",
       " 'malam',\n",
       " 'makasih',\n",
       " 'linknya',\n",
       " 'link',\n",
       " 'lakukan',\n",
       " 'lagi',\n",
       " 'komunitasnya',\n",
       " 'kerja',\n",
       " 'kemampuan',\n",
       " 'kabar',\n",
       " 'jumpa',\n",
       " 'hi',\n",
       " 'harimu',\n",
       " 'halo',\n",
       " 'hai',\n",
       " 'grupnya',\n",
       " 'grup',\n",
       " 'eta',\n",
       " 'dong',\n",
       " 'diliat',\n",
       " 'dadah',\n",
       " 'daah',\n",
       " 'channel',\n",
       " 'bye',\n",
       " 'bantuin',\n",
       " 'bantu',\n",
       " 'apasih',\n",
       " 'apaan']"
      ]
     },
     "execution_count": 26,
     "metadata": {},
     "output_type": "execute_result"
    }
   ],
   "source": [
    "text_vectorization.get_vocabulary()"
   ]
  },
  {
   "cell_type": "code",
   "execution_count": 28,
   "metadata": {},
   "outputs": [
    {
     "data": {
      "text/plain": [
       "<tf.Tensor: shape=(6,), dtype=int64, numpy=array([71, 17,  7, 13,  0,  0])>"
      ]
     },
     "execution_count": 28,
     "metadata": {},
     "output_type": "execute_result"
    }
   ],
   "source": [
    "text_vectorization('halo nama kamu siapa')"
   ]
  },
  {
   "cell_type": "code",
   "execution_count": 33,
   "metadata": {},
   "outputs": [
    {
     "data": {
      "text/plain": [
       "''"
      ]
     },
     "execution_count": 33,
     "metadata": {},
     "output_type": "execute_result"
    }
   ],
   "source": [
    "text_vectorization.get_vocabulary()[0]"
   ]
  },
  {
   "cell_type": "code",
   "execution_count": 34,
   "metadata": {},
   "outputs": [],
   "source": [
    "from tensorflow.keras.layers import Embedding\n",
    "embedding = Embedding(input_dim=max_vocab_length,\n",
    "                      output_dim=16,\n",
    "                      embeddings_initializer=\"uniform\",\n",
    "                      input_length=max_length)"
   ]
  },
  {
   "cell_type": "code",
   "execution_count": 40,
   "metadata": {},
   "outputs": [
    {
     "data": {
      "text/plain": [
       "<tf.Tensor: shape=(1, 6, 16), dtype=float32, numpy=\n",
       "array([[[-0.0148086 , -0.02316591, -0.0318022 , -0.04923364,\n",
       "         -0.01750685,  0.03336764,  0.03463038,  0.0322554 ,\n",
       "         -0.00094187,  0.02602686, -0.04140023, -0.04352396,\n",
       "         -0.00929301,  0.03723199,  0.03281195, -0.03474935],\n",
       "        [ 0.04710625, -0.00286432,  0.0388199 ,  0.00017405,\n",
       "         -0.01137855, -0.02908495, -0.02423978, -0.02978312,\n",
       "          0.01146308, -0.01361241,  0.04300782, -0.02926438,\n",
       "          0.0360395 , -0.04072239,  0.03278048,  0.04314229],\n",
       "        [-0.01441199, -0.04212294,  0.01821918, -0.0077691 ,\n",
       "          0.0293701 , -0.0288891 ,  0.02955926,  0.0297921 ,\n",
       "         -0.04988505,  0.00222541, -0.02723522, -0.01464278,\n",
       "          0.04548428, -0.03990283,  0.00988837,  0.03327673],\n",
       "        [-0.02177813, -0.04225926,  0.02909348, -0.01372105,\n",
       "         -0.02806585,  0.01055714, -0.03106246, -0.01567892,\n",
       "          0.04908412, -0.00063174,  0.0429321 ,  0.01953385,\n",
       "          0.0150297 , -0.00761716,  0.02118551,  0.0094044 ],\n",
       "        [ 0.0057951 ,  0.03713565,  0.03077907, -0.02477778,\n",
       "          0.03094275,  0.022362  ,  0.00335872,  0.01056065,\n",
       "         -0.02788634,  0.02143184,  0.03570802, -0.03814654,\n",
       "          0.00778572, -0.021428  ,  0.04022009, -0.0053347 ],\n",
       "        [ 0.0057951 ,  0.03713565,  0.03077907, -0.02477778,\n",
       "          0.03094275,  0.022362  ,  0.00335872,  0.01056065,\n",
       "         -0.02788634,  0.02143184,  0.03570802, -0.03814654,\n",
       "          0.00778572, -0.021428  ,  0.04022009, -0.0053347 ]]],\n",
       "      dtype=float32)>"
      ]
     },
     "execution_count": 40,
     "metadata": {},
     "output_type": "execute_result"
    }
   ],
   "source": [
    "import numpy as np\n",
    "res_embed = embedding(np.array([[71, 17,  7, 13,  0,  0]]))\n",
    "res_embed"
   ]
  },
  {
   "cell_type": "code",
   "execution_count": 42,
   "metadata": {},
   "outputs": [],
   "source": [
    "# modelling\n",
    "from tensorflow.keras import Model\n",
    "from tensorflow.keras.layers import Input, Dense, LSTM\n",
    "inputs = Input(shape=(1,), dtype='string')\n",
    "x = text_vectorization(inputs)\n",
    "x = embedding(x)\n",
    "x = LSTM(12)(x)\n",
    "outputs = Dense(9, activation='softmax')(x)\n",
    "model_lstm = Model(inputs, outputs, name=\"LSTM_model\")"
   ]
  },
  {
   "cell_type": "code",
   "execution_count": 43,
   "metadata": {},
   "outputs": [],
   "source": [
    "# compile model\n",
    "model_lstm.compile(loss='categorical_crossentropy',\n",
    "                   optimizer='adam',\n",
    "                   metrics=[\"accuracy\"])"
   ]
  },
  {
   "cell_type": "code",
   "execution_count": 44,
   "metadata": {},
   "outputs": [
    {
     "data": {
      "text/plain": [
       "<keras.callbacks.History at 0x7fbc845d1fd0>"
      ]
     },
     "execution_count": 44,
     "metadata": {},
     "output_type": "execute_result"
    }
   ],
   "source": [
    "model_lstm.fit(df.text_input,\n",
    "               y_train,\n",
    "               epochs=200,\n",
    "               verbose=0)"
   ]
  },
  {
   "cell_type": "code",
   "execution_count": 45,
   "metadata": {},
   "outputs": [
    {
     "name": "stdout",
     "output_type": "stream",
     "text": [
      "2/2 [==============================] - 1s 4ms/step - loss: 0.1274 - accuracy: 1.0000\n"
     ]
    },
    {
     "data": {
      "text/plain": [
       "[0.1274145096540451, 1.0]"
      ]
     },
     "execution_count": 45,
     "metadata": {},
     "output_type": "execute_result"
    }
   ],
   "source": [
    "model_lstm.evaluate(df.text_input, y_train)"
   ]
  },
  {
   "cell_type": "code",
   "execution_count": 46,
   "metadata": {},
   "outputs": [
    {
     "name": "stderr",
     "output_type": "stream",
     "text": [
      "2021-12-04 04:38:26.924363: W tensorflow/python/util/util.cc:368] Sets are not currently considered sequences, but this may change in the future, so consider avoiding using them.\n",
      "WARNING:absl:Found untraced functions such as lstm_cell_1_layer_call_fn, lstm_cell_1_layer_call_and_return_conditional_losses, lstm_cell_1_layer_call_fn, lstm_cell_1_layer_call_and_return_conditional_losses, lstm_cell_1_layer_call_and_return_conditional_losses while saving (showing 5 of 5). These functions will not be directly callable after loading.\n"
     ]
    },
    {
     "name": "stdout",
     "output_type": "stream",
     "text": [
      "INFO:tensorflow:Assets written to: bot_model.tf/assets\n"
     ]
    },
    {
     "name": "stderr",
     "output_type": "stream",
     "text": [
      "INFO:tensorflow:Assets written to: bot_model.tf/assets\n",
      "WARNING:absl:<keras.layers.recurrent.LSTMCell object at 0x7fbc846c12b0> has the same name 'LSTMCell' as a built-in Keras object. Consider renaming <class 'keras.layers.recurrent.LSTMCell'> to avoid naming conflicts when loading with `tf.keras.models.load_model`. If renaming is not possible, pass the object in the `custom_objects` parameter of the load function.\n"
     ]
    }
   ],
   "source": [
    "model_lstm.save(\"bot_model.tf\")"
   ]
  },
  {
   "cell_type": "code",
   "execution_count": 47,
   "metadata": {},
   "outputs": [],
   "source": [
    "import pickle\n",
    "le_filename = open(\"label_encoder.pickle\", \"wb\")\n",
    "pickle.dump(le, le_filename)\n",
    "le_filename.close()"
   ]
  },
  {
   "cell_type": "code",
   "execution_count": null,
   "metadata": {},
   "outputs": [],
   "source": []
  }
 ],
 "metadata": {
  "interpreter": {
   "hash": "1f180c9902c79289e42d46c71793a81f467ad9cf5bddb81fabe478121971048b"
  },
  "kernelspec": {
   "display_name": "Python 3.9.7 64-bit ('tf-cpu-dl': pyenv)",
   "language": "python",
   "name": "python3"
  },
  "language_info": {
   "codemirror_mode": {
    "name": "ipython",
    "version": 3
   },
   "file_extension": ".py",
   "mimetype": "text/x-python",
   "name": "python",
   "nbconvert_exporter": "python",
   "pygments_lexer": "ipython3",
   "version": "3.9.7"
  },
  "orig_nbformat": 4
 },
 "nbformat": 4,
 "nbformat_minor": 2
}
